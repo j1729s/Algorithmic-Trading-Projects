{
 "cells": [
  {
   "cell_type": "markdown",
   "id": "8ae50489-9fc5-4902-a48f-bd67b733efa0",
   "metadata": {},
   "source": [
    "The S&P 500 is the most popular index fund in the world. I have tried to build a similar index fund except that instead of being weighted like the S&P 500 index fund is, this index, however is equally weighted.The goal of this project is to create a Python script that will accept the value of your portfolio and tell you how many shares of each S&P 500 constituent you should purchase to get an equal-weight version of the index fund."
   ]
  },
  {
   "cell_type": "markdown",
   "id": "74794e3f-285c-4019-a40c-7675885f4798",
   "metadata": {},
   "source": [
    "We start by importing the required packages."
   ]
  },
  {
   "cell_type": "code",
   "execution_count": 1,
   "id": "403052d0-ab08-4ed3-90e2-eb65923ff647",
   "metadata": {},
   "outputs": [],
   "source": [
    "import numpy as np\n",
    "import math\n",
    "import xlsxwriter\n",
    "import pandas as pd\n",
    "import warnings\n",
    "import seaborn as sns\n",
    "import requests"
   ]
  },
  {
   "cell_type": "markdown",
   "id": "59b8423a-d2db-40c5-bcbc-09a644e32dec",
   "metadata": {},
   "source": [
    "After which we read the data into the pandas dataframe and print it to get a look. This data contains the constituents of the S&P 500."
   ]
  },
  {
   "cell_type": "code",
   "execution_count": 2,
   "id": "d0cfee2a-1c1f-4f0a-812f-6a011acb4543",
   "metadata": {},
   "outputs": [
    {
     "data": {
      "text/html": [
       "<div>\n",
       "<style scoped>\n",
       "    .dataframe tbody tr th:only-of-type {\n",
       "        vertical-align: middle;\n",
       "    }\n",
       "\n",
       "    .dataframe tbody tr th {\n",
       "        vertical-align: top;\n",
       "    }\n",
       "\n",
       "    .dataframe thead th {\n",
       "        text-align: right;\n",
       "    }\n",
       "</style>\n",
       "<table border=\"1\" class=\"dataframe\">\n",
       "  <thead>\n",
       "    <tr style=\"text-align: right;\">\n",
       "      <th></th>\n",
       "      <th>Ticker</th>\n",
       "    </tr>\n",
       "  </thead>\n",
       "  <tbody>\n",
       "    <tr>\n",
       "      <th>0</th>\n",
       "      <td>A</td>\n",
       "    </tr>\n",
       "    <tr>\n",
       "      <th>1</th>\n",
       "      <td>AAL</td>\n",
       "    </tr>\n",
       "    <tr>\n",
       "      <th>2</th>\n",
       "      <td>AAP</td>\n",
       "    </tr>\n",
       "    <tr>\n",
       "      <th>3</th>\n",
       "      <td>AAPL</td>\n",
       "    </tr>\n",
       "    <tr>\n",
       "      <th>4</th>\n",
       "      <td>ABBV</td>\n",
       "    </tr>\n",
       "    <tr>\n",
       "      <th>...</th>\n",
       "      <td>...</td>\n",
       "    </tr>\n",
       "    <tr>\n",
       "      <th>500</th>\n",
       "      <td>YUM</td>\n",
       "    </tr>\n",
       "    <tr>\n",
       "      <th>501</th>\n",
       "      <td>ZBH</td>\n",
       "    </tr>\n",
       "    <tr>\n",
       "      <th>502</th>\n",
       "      <td>ZBRA</td>\n",
       "    </tr>\n",
       "    <tr>\n",
       "      <th>503</th>\n",
       "      <td>ZION</td>\n",
       "    </tr>\n",
       "    <tr>\n",
       "      <th>504</th>\n",
       "      <td>ZTS</td>\n",
       "    </tr>\n",
       "  </tbody>\n",
       "</table>\n",
       "<p>505 rows × 1 columns</p>\n",
       "</div>"
      ],
      "text/plain": [
       "    Ticker\n",
       "0        A\n",
       "1      AAL\n",
       "2      AAP\n",
       "3     AAPL\n",
       "4     ABBV\n",
       "..     ...\n",
       "500    YUM\n",
       "501    ZBH\n",
       "502   ZBRA\n",
       "503   ZION\n",
       "504    ZTS\n",
       "\n",
       "[505 rows x 1 columns]"
      ]
     },
     "execution_count": 2,
     "metadata": {},
     "output_type": "execute_result"
    }
   ],
   "source": [
    "stocks = pd.read_csv('sp_500_stocks.csv') # we read our data into pandas\n",
    "stocks"
   ]
  },
  {
   "cell_type": "code",
   "execution_count": 19,
   "id": "be0262f2-53b0-49ef-880d-8e575598915d",
   "metadata": {},
   "outputs": [
    {
     "data": {
      "text/plain": [
       "<bound method NDFrame.describe of     Ticker\n",
       "0        A\n",
       "1      AAL\n",
       "2      AAP\n",
       "3     AAPL\n",
       "4     ABBV\n",
       "..     ...\n",
       "500    YUM\n",
       "501    ZBH\n",
       "502   ZBRA\n",
       "503   ZION\n",
       "504    ZTS\n",
       "\n",
       "[501 rows x 1 columns]>"
      ]
     },
     "execution_count": 19,
     "metadata": {},
     "output_type": "execute_result"
    }
   ],
   "source": [
    "stocks.info()"
   ]
  },
  {
   "cell_type": "markdown",
   "id": "d6348bd7-8896-48e2-acd2-8ff04aad50c0",
   "metadata": {},
   "source": [
    "We see no null entries in th data. Hence, we can proceed."
   ]
  },
  {
   "cell_type": "markdown",
   "id": "68643c45-1f41-4628-9cdc-edabcde93542",
   "metadata": {},
   "source": [
    "The next cell of code is not to be run now. We encounter a KeyError in the later stages of this project and the next cell is to clean data for the same. Please proceed now and come back to it later on when you get the error."
   ]
  },
  {
   "cell_type": "code",
   "execution_count": 3,
   "id": "a74b561c-e60e-45a3-846d-f2dec23a2605",
   "metadata": {},
   "outputs": [
    {
     "data": {
      "text/html": [
       "<div>\n",
       "<style scoped>\n",
       "    .dataframe tbody tr th:only-of-type {\n",
       "        vertical-align: middle;\n",
       "    }\n",
       "\n",
       "    .dataframe tbody tr th {\n",
       "        vertical-align: top;\n",
       "    }\n",
       "\n",
       "    .dataframe thead th {\n",
       "        text-align: right;\n",
       "    }\n",
       "</style>\n",
       "<table border=\"1\" class=\"dataframe\">\n",
       "  <thead>\n",
       "    <tr style=\"text-align: right;\">\n",
       "      <th></th>\n",
       "      <th>Ticker</th>\n",
       "    </tr>\n",
       "  </thead>\n",
       "  <tbody>\n",
       "    <tr>\n",
       "      <th>0</th>\n",
       "      <td>A</td>\n",
       "    </tr>\n",
       "    <tr>\n",
       "      <th>1</th>\n",
       "      <td>AAL</td>\n",
       "    </tr>\n",
       "    <tr>\n",
       "      <th>2</th>\n",
       "      <td>AAP</td>\n",
       "    </tr>\n",
       "    <tr>\n",
       "      <th>3</th>\n",
       "      <td>AAPL</td>\n",
       "    </tr>\n",
       "    <tr>\n",
       "      <th>4</th>\n",
       "      <td>ABBV</td>\n",
       "    </tr>\n",
       "    <tr>\n",
       "      <th>...</th>\n",
       "      <td>...</td>\n",
       "    </tr>\n",
       "    <tr>\n",
       "      <th>500</th>\n",
       "      <td>YUM</td>\n",
       "    </tr>\n",
       "    <tr>\n",
       "      <th>501</th>\n",
       "      <td>ZBH</td>\n",
       "    </tr>\n",
       "    <tr>\n",
       "      <th>502</th>\n",
       "      <td>ZBRA</td>\n",
       "    </tr>\n",
       "    <tr>\n",
       "      <th>503</th>\n",
       "      <td>ZION</td>\n",
       "    </tr>\n",
       "    <tr>\n",
       "      <th>504</th>\n",
       "      <td>ZTS</td>\n",
       "    </tr>\n",
       "  </tbody>\n",
       "</table>\n",
       "<p>501 rows × 1 columns</p>\n",
       "</div>"
      ],
      "text/plain": [
       "    Ticker\n",
       "0        A\n",
       "1      AAL\n",
       "2      AAP\n",
       "3     AAPL\n",
       "4     ABBV\n",
       "..     ...\n",
       "500    YUM\n",
       "501    ZBH\n",
       "502   ZBRA\n",
       "503   ZION\n",
       "504    ZTS\n",
       "\n",
       "[501 rows x 1 columns]"
      ]
     },
     "execution_count": 3,
     "metadata": {},
     "output_type": "execute_result"
    }
   ],
   "source": [
    "#stocks = stocks[~stocks['Ticker'].isin(['DISCA', 'HFC', 'VIAC', 'WLTW'])] #to get rid of the 4 rows with delisted stocks\n",
    "#stocks #remove the '#' from the start of both lines to run the code # we don't care about the index here as we will create a new data frame and store the values there"
   ]
  },
  {
   "cell_type": "markdown",
   "id": "26a358bd-19ef-4653-a10a-1fe4fb06b64d",
   "metadata": {},
   "source": [
    "We see that the data has 505 rows and only 1 column. Next we need to get the API token "
   ]
  },
  {
   "cell_type": "markdown",
   "id": "a053607e-3ca1-4df3-8d39-7eccce5af4ab",
   "metadata": {},
   "source": [
    "Now in order to make an API call, we need an API token.We have stored that in a secrets.py file for limited access."
   ]
  },
  {
   "cell_type": "code",
   "execution_count": 2,
   "id": "71b1775b-04ed-4a30-9f3c-2a9d119c3bc2",
   "metadata": {},
   "outputs": [],
   "source": [
    "from secrets import IEX_CLOUD_API_TOKEN"
   ]
  },
  {
   "cell_type": "markdown",
   "id": "c30e7ea9-725e-48f4-b59c-98d84f0956e2",
   "metadata": {},
   "source": [
    "Now it's time to structure our API calls to IEX cloud.\n",
    "\n",
    "We need the following information from the API:\n",
    "1. Market capitalization for each stock\n",
    "2. Price of each stock"
   ]
  },
  {
   "cell_type": "markdown",
   "id": "4560dbf6-07d7-4638-b16d-d739a61ad43c",
   "metadata": {},
   "source": [
    "All the API refrences and documentation that we might need can be found at https://iexcloud.io/docs/api.\n",
    "However, for the purpose of this project we are using a testing sandbox URL as the base URL of the API, since that will give us free, randomised data that may not be useful for a real investing strategy but certainly will serve our purpose here. First we must create the URL for the API call. Exploring the documentation on IEX Cloud website we find the base url for testing sandbox is: https://sandbox.iexapis.com"
   ]
  },
  {
   "cell_type": "markdown",
   "id": "56280e88-2e50-4cde-b91a-fb745403011d",
   "metadata": {},
   "source": [
    "To make the call we will need an API endpoint that will give us both the market cap and the price of each stock. Going through the IEX Cloud references we see that the Quote endpoint does that.That gives us https://sandbox.iexapis.com/stock/{symbol}/quote/. We also need the API token to make the call so we'll add that. https://sandbox.iexapis.com/stock/{symbol}/quote?token={IEX_CLOUD_API_TOKEN}. We also need to specify the naming convention in order to get the data, /stable/ gives us the most stable data to use. This along with API token should be enough to get us the data for Apple.  https://sandbox.iexapis.com/stable/stock/{symbol}/quote?token={API_TOKEN} Let's try that."
   ]
  },
  {
   "cell_type": "code",
   "execution_count": 5,
   "id": "f20b432e-1d16-47df-8d13-bf06371790ad",
   "metadata": {},
   "outputs": [
    {
     "name": "stdout",
     "output_type": "stream",
     "text": [
      "200\n"
     ]
    }
   ],
   "source": [
    "symbol ='AAPL'\n",
    "api_url = f'https://sandbox.iexapis.com/stable/stock/{symbol}/quote?token={IEX_CLOUD_API_TOKEN}'\n",
    "data = requests.get(api_url)\n",
    "print(data.status_code)"
   ]
  },
  {
   "cell_type": "markdown",
   "id": "80f3d125-b3d4-4bd3-8573-6f83127b1984",
   "metadata": {},
   "source": [
    "We see Status code of 200 which implies that the API call has been processed successfully on the server. We will store the data as a json file which will give us a python dictionary to work with."
   ]
  },
  {
   "cell_type": "code",
   "execution_count": 6,
   "id": "f98750bd-cb97-45c2-b5fc-d7f67ce32633",
   "metadata": {},
   "outputs": [
    {
     "data": {
      "text/plain": [
       "{'avgTotalVolume': 76769202,\n",
       " 'calculationPrice': 'close',\n",
       " 'change': 1.7,\n",
       " 'changePercent': 0.0118,\n",
       " 'close': 153.74,\n",
       " 'closeSource': 'ifcaoifl',\n",
       " 'closeTime': 1718662168918,\n",
       " 'companyName': 'Apple Inc',\n",
       " 'currency': 'USD',\n",
       " 'delayedPrice': 155.51,\n",
       " 'delayedPriceTime': 1659140935490,\n",
       " 'extendedChange': -0.12,\n",
       " 'extendedChangePercent': -0.0008,\n",
       " 'extendedPrice': 155.39,\n",
       " 'extendedPriceTime': 1668666924520,\n",
       " 'high': 154.9,\n",
       " 'highSource': 'ac1iite enuye mdr 5delp',\n",
       " 'highTime': 1686690468809,\n",
       " 'iexAskPrice': None,\n",
       " 'iexAskSize': None,\n",
       " 'iexBidPrice': None,\n",
       " 'iexBidSize': None,\n",
       " 'iexClose': 156.72,\n",
       " 'iexCloseTime': 1672598380638,\n",
       " 'iexLastUpdated': None,\n",
       " 'iexMarketPercent': None,\n",
       " 'iexOpen': 156.13,\n",
       " 'iexOpenTime': 1716701005369,\n",
       " 'iexRealtimePrice': None,\n",
       " 'iexRealtimeSize': None,\n",
       " 'iexVolume': None,\n",
       " 'lastTradeTime': 1658913586580,\n",
       " 'latestPrice': 151.33,\n",
       " 'latestSource': 'Close',\n",
       " 'latestTime': 'July 15, 2022',\n",
       " 'latestUpdate': 1735873968776,\n",
       " 'latestVolume': 77235406,\n",
       " 'low': 150.8,\n",
       " 'lowSource': 'd nmee1aiylr eic 5utped',\n",
       " 'lowTime': 1733541703537,\n",
       " 'marketCap': 2521516452993,\n",
       " 'oddLotDelayedPrice': 152.055,\n",
       " 'oddLotDelayedPriceTime': 1713774846880,\n",
       " 'open': 150.8,\n",
       " 'openTime': 1676260283565,\n",
       " 'openSource': 'folaciif',\n",
       " 'peRatio': 25.55,\n",
       " 'previousClose': 149.32,\n",
       " 'previousVolume': 80477934,\n",
       " 'primaryExchange': 'NAQDAS',\n",
       " 'symbol': 'AAPL',\n",
       " 'volume': 76310271,\n",
       " 'week52High': 184.03,\n",
       " 'week52Low': 130.97,\n",
       " 'ytdChange': -0.14490803385305095,\n",
       " 'isUSMarketOpen': False}"
      ]
     },
     "execution_count": 6,
     "metadata": {},
     "output_type": "execute_result"
    }
   ],
   "source": [
    "data = requests.get(api_url).json() #adding .json gives us a dictionary that is easier to use\n",
    "data"
   ]
  },
  {
   "cell_type": "markdown",
   "id": "a732ae4f-ea67-4d02-8b5f-41fc4740ae97",
   "metadata": {},
   "source": [
    "Now we need to parse our API call to the components we need. As noted earlier the two variables we need are Market cap, here denoted by the variable, 'marketCap', and, the price of the stock, here denoted by the variable, 'latestPrice'."
   ]
  },
  {
   "cell_type": "code",
   "execution_count": 7,
   "id": "d8ad1cee-eccd-458f-bb9e-c0e9eb1bb357",
   "metadata": {},
   "outputs": [],
   "source": [
    "price = data['latestPrice']\n",
    "market_cap = data['marketCap']\n",
    "#market_cap\n",
    "#price"
   ]
  },
  {
   "cell_type": "markdown",
   "id": "c8a121cf-173f-4833-a652-d0fced505b0c",
   "metadata": {},
   "source": [
    "Now we need to scale up this process by calling for the price and market cap of each stock in the csv file and then store that into a pandas data frame which we might then download as an excel file. So we will now start building our pandas data frame. We will need 4 columns i.e., symbol, stock price, market cap, and, number of shares to buy."
   ]
  },
  {
   "cell_type": "code",
   "execution_count": 8,
   "id": "ecb102ae-2580-42c8-bf9e-53a86fd7701b",
   "metadata": {},
   "outputs": [],
   "source": [
    "my_columns = ['Ticker', 'Price', 'Market Capitalization', 'Number Of Shares to Buy']\n",
    "final_dataframe = pd.DataFrame(columns = my_columns) #creates an empty pandas data frame with 4 coulmns"
   ]
  },
  {
   "cell_type": "markdown",
   "id": "59984632-74c0-4d8e-bf4e-c5263fa4a395",
   "metadata": {},
   "source": [
    "Having created our data frame we will use the append function to append the data into the data frame."
   ]
  },
  {
   "cell_type": "code",
   "execution_count": 9,
   "id": "efef1f23-0e5f-4242-aa9f-5cb9b26dbc88",
   "metadata": {},
   "outputs": [
    {
     "data": {
      "text/html": [
       "<div>\n",
       "<style scoped>\n",
       "    .dataframe tbody tr th:only-of-type {\n",
       "        vertical-align: middle;\n",
       "    }\n",
       "\n",
       "    .dataframe tbody tr th {\n",
       "        vertical-align: top;\n",
       "    }\n",
       "\n",
       "    .dataframe thead th {\n",
       "        text-align: right;\n",
       "    }\n",
       "</style>\n",
       "<table border=\"1\" class=\"dataframe\">\n",
       "  <thead>\n",
       "    <tr style=\"text-align: right;\">\n",
       "      <th></th>\n",
       "      <th>Ticker</th>\n",
       "      <th>Price</th>\n",
       "      <th>Market Capitalization</th>\n",
       "      <th>Number Of Shares to Buy</th>\n",
       "    </tr>\n",
       "  </thead>\n",
       "  <tbody>\n",
       "    <tr>\n",
       "      <th>0</th>\n",
       "      <td>AAPL</td>\n",
       "      <td>151.33</td>\n",
       "      <td>2521516452993</td>\n",
       "      <td>N/A</td>\n",
       "    </tr>\n",
       "  </tbody>\n",
       "</table>\n",
       "</div>"
      ],
      "text/plain": [
       "  Ticker   Price Market Capitalization Number Of Shares to Buy\n",
       "0   AAPL  151.33         2521516452993                     N/A"
      ]
     },
     "execution_count": 9,
     "metadata": {},
     "output_type": "execute_result"
    }
   ],
   "source": [
    "final_dataframe = final_dataframe.append(\n",
    "                                        pd.Series([symbol, \n",
    "                                                   price, \n",
    "                                                   market_cap, \n",
    "                                                   'N/A'], \n",
    "                                                  index = my_columns), \n",
    "                                        ignore_index = True) #ignore_index = True is added to prevent a common error\n",
    "final_dataframe"
   ]
  },
  {
   "cell_type": "markdown",
   "id": "ae5003ab-018a-4140-ad70-e86efb7fe634",
   "metadata": {},
   "source": [
    "We see that the method works. Now let's create a loop to loop through all the stocks in the data and make the API call which will then add to our data frame. Here we are using a single API request."
   ]
  },
  {
   "cell_type": "code",
   "execution_count": 10,
   "id": "2e4da999-4545-4dd9-96f7-15201413a9b3",
   "metadata": {
    "tags": []
   },
   "outputs": [
    {
     "ename": "ConnectionError",
     "evalue": "('Connection aborted.', RemoteDisconnected('Remote end closed connection without response',))",
     "output_type": "error",
     "traceback": [
      "\u001b[1;31m---------------------------------------------------------------------------\u001b[0m",
      "\u001b[1;31mRemoteDisconnected\u001b[0m                        Traceback (most recent call last)",
      "\u001b[1;32mc:\\users\\suer\\appdata\\local\\programs\\python\\python36-32\\lib\\site-packages\\urllib3\\connectionpool.py\u001b[0m in \u001b[0;36murlopen\u001b[1;34m(self, method, url, body, headers, retries, redirect, assert_same_host, timeout, pool_timeout, release_conn, chunked, body_pos, **response_kw)\u001b[0m\n\u001b[0;32m    709\u001b[0m                 \u001b[0mheaders\u001b[0m\u001b[1;33m=\u001b[0m\u001b[0mheaders\u001b[0m\u001b[1;33m,\u001b[0m\u001b[1;33m\u001b[0m\u001b[0m\n\u001b[1;32m--> 710\u001b[1;33m                 \u001b[0mchunked\u001b[0m\u001b[1;33m=\u001b[0m\u001b[0mchunked\u001b[0m\u001b[1;33m,\u001b[0m\u001b[1;33m\u001b[0m\u001b[0m\n\u001b[0m\u001b[0;32m    711\u001b[0m             )\n",
      "\u001b[1;32mc:\\users\\suer\\appdata\\local\\programs\\python\\python36-32\\lib\\site-packages\\urllib3\\connectionpool.py\u001b[0m in \u001b[0;36m_make_request\u001b[1;34m(self, conn, method, url, timeout, chunked, **httplib_request_kw)\u001b[0m\n\u001b[0;32m    448\u001b[0m                     \u001b[1;31m# Otherwise it looks like a bug in the code.\u001b[0m\u001b[1;33m\u001b[0m\u001b[1;33m\u001b[0m\u001b[0m\n\u001b[1;32m--> 449\u001b[1;33m                     \u001b[0msix\u001b[0m\u001b[1;33m.\u001b[0m\u001b[0mraise_from\u001b[0m\u001b[1;33m(\u001b[0m\u001b[0me\u001b[0m\u001b[1;33m,\u001b[0m \u001b[1;32mNone\u001b[0m\u001b[1;33m)\u001b[0m\u001b[1;33m\u001b[0m\u001b[0m\n\u001b[0m\u001b[0;32m    450\u001b[0m         \u001b[1;32mexcept\u001b[0m \u001b[1;33m(\u001b[0m\u001b[0mSocketTimeout\u001b[0m\u001b[1;33m,\u001b[0m \u001b[0mBaseSSLError\u001b[0m\u001b[1;33m,\u001b[0m \u001b[0mSocketError\u001b[0m\u001b[1;33m)\u001b[0m \u001b[1;32mas\u001b[0m \u001b[0me\u001b[0m\u001b[1;33m:\u001b[0m\u001b[1;33m\u001b[0m\u001b[0m\n",
      "\u001b[1;32mc:\\users\\suer\\appdata\\local\\programs\\python\\python36-32\\lib\\site-packages\\urllib3\\packages\\six.py\u001b[0m in \u001b[0;36mraise_from\u001b[1;34m(value, from_value)\u001b[0m\n",
      "\u001b[1;32mc:\\users\\suer\\appdata\\local\\programs\\python\\python36-32\\lib\\site-packages\\urllib3\\connectionpool.py\u001b[0m in \u001b[0;36m_make_request\u001b[1;34m(self, conn, method, url, timeout, chunked, **httplib_request_kw)\u001b[0m\n\u001b[0;32m    443\u001b[0m                 \u001b[1;32mtry\u001b[0m\u001b[1;33m:\u001b[0m\u001b[1;33m\u001b[0m\u001b[0m\n\u001b[1;32m--> 444\u001b[1;33m                     \u001b[0mhttplib_response\u001b[0m \u001b[1;33m=\u001b[0m \u001b[0mconn\u001b[0m\u001b[1;33m.\u001b[0m\u001b[0mgetresponse\u001b[0m\u001b[1;33m(\u001b[0m\u001b[1;33m)\u001b[0m\u001b[1;33m\u001b[0m\u001b[0m\n\u001b[0m\u001b[0;32m    445\u001b[0m                 \u001b[1;32mexcept\u001b[0m \u001b[0mBaseException\u001b[0m \u001b[1;32mas\u001b[0m \u001b[0me\u001b[0m\u001b[1;33m:\u001b[0m\u001b[1;33m\u001b[0m\u001b[0m\n",
      "\u001b[1;32mc:\\users\\suer\\appdata\\local\\programs\\python\\python36-32\\lib\\http\\client.py\u001b[0m in \u001b[0;36mgetresponse\u001b[1;34m(self)\u001b[0m\n\u001b[0;32m   1330\u001b[0m             \u001b[1;32mtry\u001b[0m\u001b[1;33m:\u001b[0m\u001b[1;33m\u001b[0m\u001b[0m\n\u001b[1;32m-> 1331\u001b[1;33m                 \u001b[0mresponse\u001b[0m\u001b[1;33m.\u001b[0m\u001b[0mbegin\u001b[0m\u001b[1;33m(\u001b[0m\u001b[1;33m)\u001b[0m\u001b[1;33m\u001b[0m\u001b[0m\n\u001b[0m\u001b[0;32m   1332\u001b[0m             \u001b[1;32mexcept\u001b[0m \u001b[0mConnectionError\u001b[0m\u001b[1;33m:\u001b[0m\u001b[1;33m\u001b[0m\u001b[0m\n",
      "\u001b[1;32mc:\\users\\suer\\appdata\\local\\programs\\python\\python36-32\\lib\\http\\client.py\u001b[0m in \u001b[0;36mbegin\u001b[1;34m(self)\u001b[0m\n\u001b[0;32m    296\u001b[0m         \u001b[1;32mwhile\u001b[0m \u001b[1;32mTrue\u001b[0m\u001b[1;33m:\u001b[0m\u001b[1;33m\u001b[0m\u001b[0m\n\u001b[1;32m--> 297\u001b[1;33m             \u001b[0mversion\u001b[0m\u001b[1;33m,\u001b[0m \u001b[0mstatus\u001b[0m\u001b[1;33m,\u001b[0m \u001b[0mreason\u001b[0m \u001b[1;33m=\u001b[0m \u001b[0mself\u001b[0m\u001b[1;33m.\u001b[0m\u001b[0m_read_status\u001b[0m\u001b[1;33m(\u001b[0m\u001b[1;33m)\u001b[0m\u001b[1;33m\u001b[0m\u001b[0m\n\u001b[0m\u001b[0;32m    298\u001b[0m             \u001b[1;32mif\u001b[0m \u001b[0mstatus\u001b[0m \u001b[1;33m!=\u001b[0m \u001b[0mCONTINUE\u001b[0m\u001b[1;33m:\u001b[0m\u001b[1;33m\u001b[0m\u001b[0m\n",
      "\u001b[1;32mc:\\users\\suer\\appdata\\local\\programs\\python\\python36-32\\lib\\http\\client.py\u001b[0m in \u001b[0;36m_read_status\u001b[1;34m(self)\u001b[0m\n\u001b[0;32m    265\u001b[0m             \u001b[1;31m# sending a valid response.\u001b[0m\u001b[1;33m\u001b[0m\u001b[1;33m\u001b[0m\u001b[0m\n\u001b[1;32m--> 266\u001b[1;33m             raise RemoteDisconnected(\"Remote end closed connection without\"\n\u001b[0m\u001b[0;32m    267\u001b[0m                                      \" response\")\n",
      "\u001b[1;31mRemoteDisconnected\u001b[0m: Remote end closed connection without response",
      "\nDuring handling of the above exception, another exception occurred:\n",
      "\u001b[1;31mProtocolError\u001b[0m                             Traceback (most recent call last)",
      "\u001b[1;32mc:\\users\\suer\\appdata\\local\\programs\\python\\python36-32\\lib\\site-packages\\requests\\adapters.py\u001b[0m in \u001b[0;36msend\u001b[1;34m(self, request, stream, timeout, verify, cert, proxies)\u001b[0m\n\u001b[0;32m    449\u001b[0m                     \u001b[0mretries\u001b[0m\u001b[1;33m=\u001b[0m\u001b[0mself\u001b[0m\u001b[1;33m.\u001b[0m\u001b[0mmax_retries\u001b[0m\u001b[1;33m,\u001b[0m\u001b[1;33m\u001b[0m\u001b[0m\n\u001b[1;32m--> 450\u001b[1;33m                     \u001b[0mtimeout\u001b[0m\u001b[1;33m=\u001b[0m\u001b[0mtimeout\u001b[0m\u001b[1;33m\u001b[0m\u001b[0m\n\u001b[0m\u001b[0;32m    451\u001b[0m                 )\n",
      "\u001b[1;32mc:\\users\\suer\\appdata\\local\\programs\\python\\python36-32\\lib\\site-packages\\urllib3\\connectionpool.py\u001b[0m in \u001b[0;36murlopen\u001b[1;34m(self, method, url, body, headers, retries, redirect, assert_same_host, timeout, pool_timeout, release_conn, chunked, body_pos, **response_kw)\u001b[0m\n\u001b[0;32m    785\u001b[0m             retries = retries.increment(\n\u001b[1;32m--> 786\u001b[1;33m                 \u001b[0mmethod\u001b[0m\u001b[1;33m,\u001b[0m \u001b[0murl\u001b[0m\u001b[1;33m,\u001b[0m \u001b[0merror\u001b[0m\u001b[1;33m=\u001b[0m\u001b[0me\u001b[0m\u001b[1;33m,\u001b[0m \u001b[0m_pool\u001b[0m\u001b[1;33m=\u001b[0m\u001b[0mself\u001b[0m\u001b[1;33m,\u001b[0m \u001b[0m_stacktrace\u001b[0m\u001b[1;33m=\u001b[0m\u001b[0msys\u001b[0m\u001b[1;33m.\u001b[0m\u001b[0mexc_info\u001b[0m\u001b[1;33m(\u001b[0m\u001b[1;33m)\u001b[0m\u001b[1;33m[\u001b[0m\u001b[1;36m2\u001b[0m\u001b[1;33m]\u001b[0m\u001b[1;33m\u001b[0m\u001b[0m\n\u001b[0m\u001b[0;32m    787\u001b[0m             )\n",
      "\u001b[1;32mc:\\users\\suer\\appdata\\local\\programs\\python\\python36-32\\lib\\site-packages\\urllib3\\util\\retry.py\u001b[0m in \u001b[0;36mincrement\u001b[1;34m(self, method, url, response, error, _pool, _stacktrace)\u001b[0m\n\u001b[0;32m    549\u001b[0m             \u001b[1;32mif\u001b[0m \u001b[0mread\u001b[0m \u001b[1;32mis\u001b[0m \u001b[1;32mFalse\u001b[0m \u001b[1;32mor\u001b[0m \u001b[1;32mnot\u001b[0m \u001b[0mself\u001b[0m\u001b[1;33m.\u001b[0m\u001b[0m_is_method_retryable\u001b[0m\u001b[1;33m(\u001b[0m\u001b[0mmethod\u001b[0m\u001b[1;33m)\u001b[0m\u001b[1;33m:\u001b[0m\u001b[1;33m\u001b[0m\u001b[0m\n\u001b[1;32m--> 550\u001b[1;33m                 \u001b[1;32mraise\u001b[0m \u001b[0msix\u001b[0m\u001b[1;33m.\u001b[0m\u001b[0mreraise\u001b[0m\u001b[1;33m(\u001b[0m\u001b[0mtype\u001b[0m\u001b[1;33m(\u001b[0m\u001b[0merror\u001b[0m\u001b[1;33m)\u001b[0m\u001b[1;33m,\u001b[0m \u001b[0merror\u001b[0m\u001b[1;33m,\u001b[0m \u001b[0m_stacktrace\u001b[0m\u001b[1;33m)\u001b[0m\u001b[1;33m\u001b[0m\u001b[0m\n\u001b[0m\u001b[0;32m    551\u001b[0m             \u001b[1;32melif\u001b[0m \u001b[0mread\u001b[0m \u001b[1;32mis\u001b[0m \u001b[1;32mnot\u001b[0m \u001b[1;32mNone\u001b[0m\u001b[1;33m:\u001b[0m\u001b[1;33m\u001b[0m\u001b[0m\n",
      "\u001b[1;32mc:\\users\\suer\\appdata\\local\\programs\\python\\python36-32\\lib\\site-packages\\urllib3\\packages\\six.py\u001b[0m in \u001b[0;36mreraise\u001b[1;34m(tp, value, tb)\u001b[0m\n\u001b[0;32m    768\u001b[0m             \u001b[1;32mif\u001b[0m \u001b[0mvalue\u001b[0m\u001b[1;33m.\u001b[0m\u001b[0m__traceback__\u001b[0m \u001b[1;32mis\u001b[0m \u001b[1;32mnot\u001b[0m \u001b[0mtb\u001b[0m\u001b[1;33m:\u001b[0m\u001b[1;33m\u001b[0m\u001b[0m\n\u001b[1;32m--> 769\u001b[1;33m                 \u001b[1;32mraise\u001b[0m \u001b[0mvalue\u001b[0m\u001b[1;33m.\u001b[0m\u001b[0mwith_traceback\u001b[0m\u001b[1;33m(\u001b[0m\u001b[0mtb\u001b[0m\u001b[1;33m)\u001b[0m\u001b[1;33m\u001b[0m\u001b[0m\n\u001b[0m\u001b[0;32m    770\u001b[0m             \u001b[1;32mraise\u001b[0m \u001b[0mvalue\u001b[0m\u001b[1;33m\u001b[0m\u001b[0m\n",
      "\u001b[1;32mc:\\users\\suer\\appdata\\local\\programs\\python\\python36-32\\lib\\site-packages\\urllib3\\connectionpool.py\u001b[0m in \u001b[0;36murlopen\u001b[1;34m(self, method, url, body, headers, retries, redirect, assert_same_host, timeout, pool_timeout, release_conn, chunked, body_pos, **response_kw)\u001b[0m\n\u001b[0;32m    709\u001b[0m                 \u001b[0mheaders\u001b[0m\u001b[1;33m=\u001b[0m\u001b[0mheaders\u001b[0m\u001b[1;33m,\u001b[0m\u001b[1;33m\u001b[0m\u001b[0m\n\u001b[1;32m--> 710\u001b[1;33m                 \u001b[0mchunked\u001b[0m\u001b[1;33m=\u001b[0m\u001b[0mchunked\u001b[0m\u001b[1;33m,\u001b[0m\u001b[1;33m\u001b[0m\u001b[0m\n\u001b[0m\u001b[0;32m    711\u001b[0m             )\n",
      "\u001b[1;32mc:\\users\\suer\\appdata\\local\\programs\\python\\python36-32\\lib\\site-packages\\urllib3\\connectionpool.py\u001b[0m in \u001b[0;36m_make_request\u001b[1;34m(self, conn, method, url, timeout, chunked, **httplib_request_kw)\u001b[0m\n\u001b[0;32m    448\u001b[0m                     \u001b[1;31m# Otherwise it looks like a bug in the code.\u001b[0m\u001b[1;33m\u001b[0m\u001b[1;33m\u001b[0m\u001b[0m\n\u001b[1;32m--> 449\u001b[1;33m                     \u001b[0msix\u001b[0m\u001b[1;33m.\u001b[0m\u001b[0mraise_from\u001b[0m\u001b[1;33m(\u001b[0m\u001b[0me\u001b[0m\u001b[1;33m,\u001b[0m \u001b[1;32mNone\u001b[0m\u001b[1;33m)\u001b[0m\u001b[1;33m\u001b[0m\u001b[0m\n\u001b[0m\u001b[0;32m    450\u001b[0m         \u001b[1;32mexcept\u001b[0m \u001b[1;33m(\u001b[0m\u001b[0mSocketTimeout\u001b[0m\u001b[1;33m,\u001b[0m \u001b[0mBaseSSLError\u001b[0m\u001b[1;33m,\u001b[0m \u001b[0mSocketError\u001b[0m\u001b[1;33m)\u001b[0m \u001b[1;32mas\u001b[0m \u001b[0me\u001b[0m\u001b[1;33m:\u001b[0m\u001b[1;33m\u001b[0m\u001b[0m\n",
      "\u001b[1;32mc:\\users\\suer\\appdata\\local\\programs\\python\\python36-32\\lib\\site-packages\\urllib3\\packages\\six.py\u001b[0m in \u001b[0;36mraise_from\u001b[1;34m(value, from_value)\u001b[0m\n",
      "\u001b[1;32mc:\\users\\suer\\appdata\\local\\programs\\python\\python36-32\\lib\\site-packages\\urllib3\\connectionpool.py\u001b[0m in \u001b[0;36m_make_request\u001b[1;34m(self, conn, method, url, timeout, chunked, **httplib_request_kw)\u001b[0m\n\u001b[0;32m    443\u001b[0m                 \u001b[1;32mtry\u001b[0m\u001b[1;33m:\u001b[0m\u001b[1;33m\u001b[0m\u001b[0m\n\u001b[1;32m--> 444\u001b[1;33m                     \u001b[0mhttplib_response\u001b[0m \u001b[1;33m=\u001b[0m \u001b[0mconn\u001b[0m\u001b[1;33m.\u001b[0m\u001b[0mgetresponse\u001b[0m\u001b[1;33m(\u001b[0m\u001b[1;33m)\u001b[0m\u001b[1;33m\u001b[0m\u001b[0m\n\u001b[0m\u001b[0;32m    445\u001b[0m                 \u001b[1;32mexcept\u001b[0m \u001b[0mBaseException\u001b[0m \u001b[1;32mas\u001b[0m \u001b[0me\u001b[0m\u001b[1;33m:\u001b[0m\u001b[1;33m\u001b[0m\u001b[0m\n",
      "\u001b[1;32mc:\\users\\suer\\appdata\\local\\programs\\python\\python36-32\\lib\\http\\client.py\u001b[0m in \u001b[0;36mgetresponse\u001b[1;34m(self)\u001b[0m\n\u001b[0;32m   1330\u001b[0m             \u001b[1;32mtry\u001b[0m\u001b[1;33m:\u001b[0m\u001b[1;33m\u001b[0m\u001b[0m\n\u001b[1;32m-> 1331\u001b[1;33m                 \u001b[0mresponse\u001b[0m\u001b[1;33m.\u001b[0m\u001b[0mbegin\u001b[0m\u001b[1;33m(\u001b[0m\u001b[1;33m)\u001b[0m\u001b[1;33m\u001b[0m\u001b[0m\n\u001b[0m\u001b[0;32m   1332\u001b[0m             \u001b[1;32mexcept\u001b[0m \u001b[0mConnectionError\u001b[0m\u001b[1;33m:\u001b[0m\u001b[1;33m\u001b[0m\u001b[0m\n",
      "\u001b[1;32mc:\\users\\suer\\appdata\\local\\programs\\python\\python36-32\\lib\\http\\client.py\u001b[0m in \u001b[0;36mbegin\u001b[1;34m(self)\u001b[0m\n\u001b[0;32m    296\u001b[0m         \u001b[1;32mwhile\u001b[0m \u001b[1;32mTrue\u001b[0m\u001b[1;33m:\u001b[0m\u001b[1;33m\u001b[0m\u001b[0m\n\u001b[1;32m--> 297\u001b[1;33m             \u001b[0mversion\u001b[0m\u001b[1;33m,\u001b[0m \u001b[0mstatus\u001b[0m\u001b[1;33m,\u001b[0m \u001b[0mreason\u001b[0m \u001b[1;33m=\u001b[0m \u001b[0mself\u001b[0m\u001b[1;33m.\u001b[0m\u001b[0m_read_status\u001b[0m\u001b[1;33m(\u001b[0m\u001b[1;33m)\u001b[0m\u001b[1;33m\u001b[0m\u001b[0m\n\u001b[0m\u001b[0;32m    298\u001b[0m             \u001b[1;32mif\u001b[0m \u001b[0mstatus\u001b[0m \u001b[1;33m!=\u001b[0m \u001b[0mCONTINUE\u001b[0m\u001b[1;33m:\u001b[0m\u001b[1;33m\u001b[0m\u001b[0m\n",
      "\u001b[1;32mc:\\users\\suer\\appdata\\local\\programs\\python\\python36-32\\lib\\http\\client.py\u001b[0m in \u001b[0;36m_read_status\u001b[1;34m(self)\u001b[0m\n\u001b[0;32m    265\u001b[0m             \u001b[1;31m# sending a valid response.\u001b[0m\u001b[1;33m\u001b[0m\u001b[1;33m\u001b[0m\u001b[0m\n\u001b[1;32m--> 266\u001b[1;33m             raise RemoteDisconnected(\"Remote end closed connection without\"\n\u001b[0m\u001b[0;32m    267\u001b[0m                                      \" response\")\n",
      "\u001b[1;31mProtocolError\u001b[0m: ('Connection aborted.', RemoteDisconnected('Remote end closed connection without response',))",
      "\nDuring handling of the above exception, another exception occurred:\n",
      "\u001b[1;31mConnectionError\u001b[0m                           Traceback (most recent call last)",
      "\u001b[1;32m<ipython-input-10-227657c9181e>\u001b[0m in \u001b[0;36m<module>\u001b[1;34m\u001b[0m\n\u001b[0;32m      2\u001b[0m \u001b[1;32mfor\u001b[0m \u001b[0mstock\u001b[0m \u001b[1;32min\u001b[0m \u001b[0mstocks\u001b[0m\u001b[1;33m[\u001b[0m\u001b[1;34m'Ticker'\u001b[0m\u001b[1;33m]\u001b[0m\u001b[1;33m:\u001b[0m\u001b[1;33m\u001b[0m\u001b[0m\n\u001b[0;32m      3\u001b[0m     \u001b[0mapi_url\u001b[0m \u001b[1;33m=\u001b[0m \u001b[1;34mf'https://sandbox.iexapis.com/stable/stock/{stock}/quote?token={IEX_CLOUD_API_TOKEN}'\u001b[0m\u001b[1;33m\u001b[0m\u001b[0m\n\u001b[1;32m----> 4\u001b[1;33m     \u001b[0mdata\u001b[0m \u001b[1;33m=\u001b[0m \u001b[0mrequests\u001b[0m\u001b[1;33m.\u001b[0m\u001b[0mget\u001b[0m\u001b[1;33m(\u001b[0m\u001b[0mapi_url\u001b[0m\u001b[1;33m)\u001b[0m\u001b[1;33m.\u001b[0m\u001b[0mjson\u001b[0m\u001b[1;33m(\u001b[0m\u001b[1;33m)\u001b[0m\u001b[1;33m\u001b[0m\u001b[0m\n\u001b[0m\u001b[0;32m      5\u001b[0m     final_dataframe = final_dataframe.append(\n\u001b[0;32m      6\u001b[0m                                         pd.Series([stock, \n",
      "\u001b[1;32mc:\\users\\suer\\appdata\\local\\programs\\python\\python36-32\\lib\\site-packages\\requests\\api.py\u001b[0m in \u001b[0;36mget\u001b[1;34m(url, params, **kwargs)\u001b[0m\n\u001b[0;32m     73\u001b[0m     \"\"\"\n\u001b[0;32m     74\u001b[0m \u001b[1;33m\u001b[0m\u001b[0m\n\u001b[1;32m---> 75\u001b[1;33m     \u001b[1;32mreturn\u001b[0m \u001b[0mrequest\u001b[0m\u001b[1;33m(\u001b[0m\u001b[1;34m'get'\u001b[0m\u001b[1;33m,\u001b[0m \u001b[0murl\u001b[0m\u001b[1;33m,\u001b[0m \u001b[0mparams\u001b[0m\u001b[1;33m=\u001b[0m\u001b[0mparams\u001b[0m\u001b[1;33m,\u001b[0m \u001b[1;33m**\u001b[0m\u001b[0mkwargs\u001b[0m\u001b[1;33m)\u001b[0m\u001b[1;33m\u001b[0m\u001b[0m\n\u001b[0m\u001b[0;32m     76\u001b[0m \u001b[1;33m\u001b[0m\u001b[0m\n\u001b[0;32m     77\u001b[0m \u001b[1;33m\u001b[0m\u001b[0m\n",
      "\u001b[1;32mc:\\users\\suer\\appdata\\local\\programs\\python\\python36-32\\lib\\site-packages\\requests\\api.py\u001b[0m in \u001b[0;36mrequest\u001b[1;34m(method, url, **kwargs)\u001b[0m\n\u001b[0;32m     59\u001b[0m     \u001b[1;31m# cases, and look like a memory leak in others.\u001b[0m\u001b[1;33m\u001b[0m\u001b[1;33m\u001b[0m\u001b[0m\n\u001b[0;32m     60\u001b[0m     \u001b[1;32mwith\u001b[0m \u001b[0msessions\u001b[0m\u001b[1;33m.\u001b[0m\u001b[0mSession\u001b[0m\u001b[1;33m(\u001b[0m\u001b[1;33m)\u001b[0m \u001b[1;32mas\u001b[0m \u001b[0msession\u001b[0m\u001b[1;33m:\u001b[0m\u001b[1;33m\u001b[0m\u001b[0m\n\u001b[1;32m---> 61\u001b[1;33m         \u001b[1;32mreturn\u001b[0m \u001b[0msession\u001b[0m\u001b[1;33m.\u001b[0m\u001b[0mrequest\u001b[0m\u001b[1;33m(\u001b[0m\u001b[0mmethod\u001b[0m\u001b[1;33m=\u001b[0m\u001b[0mmethod\u001b[0m\u001b[1;33m,\u001b[0m \u001b[0murl\u001b[0m\u001b[1;33m=\u001b[0m\u001b[0murl\u001b[0m\u001b[1;33m,\u001b[0m \u001b[1;33m**\u001b[0m\u001b[0mkwargs\u001b[0m\u001b[1;33m)\u001b[0m\u001b[1;33m\u001b[0m\u001b[0m\n\u001b[0m\u001b[0;32m     62\u001b[0m \u001b[1;33m\u001b[0m\u001b[0m\n\u001b[0;32m     63\u001b[0m \u001b[1;33m\u001b[0m\u001b[0m\n",
      "\u001b[1;32mc:\\users\\suer\\appdata\\local\\programs\\python\\python36-32\\lib\\site-packages\\requests\\sessions.py\u001b[0m in \u001b[0;36mrequest\u001b[1;34m(self, method, url, params, data, headers, cookies, files, auth, timeout, allow_redirects, proxies, hooks, stream, verify, cert, json)\u001b[0m\n\u001b[0;32m    527\u001b[0m         }\n\u001b[0;32m    528\u001b[0m         \u001b[0msend_kwargs\u001b[0m\u001b[1;33m.\u001b[0m\u001b[0mupdate\u001b[0m\u001b[1;33m(\u001b[0m\u001b[0msettings\u001b[0m\u001b[1;33m)\u001b[0m\u001b[1;33m\u001b[0m\u001b[0m\n\u001b[1;32m--> 529\u001b[1;33m         \u001b[0mresp\u001b[0m \u001b[1;33m=\u001b[0m \u001b[0mself\u001b[0m\u001b[1;33m.\u001b[0m\u001b[0msend\u001b[0m\u001b[1;33m(\u001b[0m\u001b[0mprep\u001b[0m\u001b[1;33m,\u001b[0m \u001b[1;33m**\u001b[0m\u001b[0msend_kwargs\u001b[0m\u001b[1;33m)\u001b[0m\u001b[1;33m\u001b[0m\u001b[0m\n\u001b[0m\u001b[0;32m    530\u001b[0m \u001b[1;33m\u001b[0m\u001b[0m\n\u001b[0;32m    531\u001b[0m         \u001b[1;32mreturn\u001b[0m \u001b[0mresp\u001b[0m\u001b[1;33m\u001b[0m\u001b[0m\n",
      "\u001b[1;32mc:\\users\\suer\\appdata\\local\\programs\\python\\python36-32\\lib\\site-packages\\requests\\sessions.py\u001b[0m in \u001b[0;36msend\u001b[1;34m(self, request, **kwargs)\u001b[0m\n\u001b[0;32m    643\u001b[0m \u001b[1;33m\u001b[0m\u001b[0m\n\u001b[0;32m    644\u001b[0m         \u001b[1;31m# Send the request\u001b[0m\u001b[1;33m\u001b[0m\u001b[1;33m\u001b[0m\u001b[0m\n\u001b[1;32m--> 645\u001b[1;33m         \u001b[0mr\u001b[0m \u001b[1;33m=\u001b[0m \u001b[0madapter\u001b[0m\u001b[1;33m.\u001b[0m\u001b[0msend\u001b[0m\u001b[1;33m(\u001b[0m\u001b[0mrequest\u001b[0m\u001b[1;33m,\u001b[0m \u001b[1;33m**\u001b[0m\u001b[0mkwargs\u001b[0m\u001b[1;33m)\u001b[0m\u001b[1;33m\u001b[0m\u001b[0m\n\u001b[0m\u001b[0;32m    646\u001b[0m \u001b[1;33m\u001b[0m\u001b[0m\n\u001b[0;32m    647\u001b[0m         \u001b[1;31m# Total elapsed time of the request (approximately)\u001b[0m\u001b[1;33m\u001b[0m\u001b[1;33m\u001b[0m\u001b[0m\n",
      "\u001b[1;32mc:\\users\\suer\\appdata\\local\\programs\\python\\python36-32\\lib\\site-packages\\requests\\adapters.py\u001b[0m in \u001b[0;36msend\u001b[1;34m(self, request, stream, timeout, verify, cert, proxies)\u001b[0m\n\u001b[0;32m    499\u001b[0m \u001b[1;33m\u001b[0m\u001b[0m\n\u001b[0;32m    500\u001b[0m         \u001b[1;32mexcept\u001b[0m \u001b[1;33m(\u001b[0m\u001b[0mProtocolError\u001b[0m\u001b[1;33m,\u001b[0m \u001b[0msocket\u001b[0m\u001b[1;33m.\u001b[0m\u001b[0merror\u001b[0m\u001b[1;33m)\u001b[0m \u001b[1;32mas\u001b[0m \u001b[0merr\u001b[0m\u001b[1;33m:\u001b[0m\u001b[1;33m\u001b[0m\u001b[0m\n\u001b[1;32m--> 501\u001b[1;33m             \u001b[1;32mraise\u001b[0m \u001b[0mConnectionError\u001b[0m\u001b[1;33m(\u001b[0m\u001b[0merr\u001b[0m\u001b[1;33m,\u001b[0m \u001b[0mrequest\u001b[0m\u001b[1;33m=\u001b[0m\u001b[0mrequest\u001b[0m\u001b[1;33m)\u001b[0m\u001b[1;33m\u001b[0m\u001b[0m\n\u001b[0m\u001b[0;32m    502\u001b[0m \u001b[1;33m\u001b[0m\u001b[0m\n\u001b[0;32m    503\u001b[0m         \u001b[1;32mexcept\u001b[0m \u001b[0mMaxRetryError\u001b[0m \u001b[1;32mas\u001b[0m \u001b[0me\u001b[0m\u001b[1;33m:\u001b[0m\u001b[1;33m\u001b[0m\u001b[0m\n",
      "\u001b[1;31mConnectionError\u001b[0m: ('Connection aborted.', RemoteDisconnected('Remote end closed connection without response',))"
     ]
    }
   ],
   "source": [
    "final_dataframe = pd.DataFrame(columns = my_columns) # redefine an empty data frame\n",
    "for stock in stocks['Ticker']: # loops for all stocks in the column 'Ticker'\n",
    "    api_url = f'https://sandbox.iexapis.com/stable/stock/{stock}/quote?token={IEX_CLOUD_API_TOKEN}'\n",
    "    data = requests.get(api_url).json()\n",
    "    final_dataframe = final_dataframe.append(\n",
    "                                        pd.Series([stock, \n",
    "                                                   data['latestPrice'], \n",
    "                                                   data['marketCap'], \n",
    "                                                   'N/A'], \n",
    "                                                  index = my_columns), \n",
    "                                        ignore_index = True)\n",
    "final_dataframe"
   ]
  },
  {
   "cell_type": "markdown",
   "id": "16c8d404-8b79-4f47-aba3-fd69c0305b0c",
   "metadata": {},
   "source": [
    "We saw a few KeyErrors. This is probably because the stocks with Ticker, 'DISCA', 'HFC', 'VIAC', 'WLTW', have been delisted and therefore the API call request sends an error. So we we will go back to the first few steps and clean the data of these rows."
   ]
  },
  {
   "cell_type": "markdown",
   "id": "a7e23af6-d4ba-4de8-9e02-635acbbac846",
   "metadata": {},
   "source": [
    "Well that works! But it is exceptionally slow and has a tendency to disconnect. It took me a fair few times to stay connected with server long enough to get the output. We know that making HTTPS requests are one of the slowest things one can do on python."
   ]
  },
  {
   "cell_type": "markdown",
   "id": "e09e917c-8273-4f14-bb56-214e0ce57438",
   "metadata": {},
   "source": [
    "Next we will try to learn how to make batch API calls, where a bunch of API calls cluubed together. This makes the process much more efficient. Although, IEX Cloud limits their batch API calls to 100 tickers per request, this is a massive improvement as it reduced the number of requests down to 1%, i.e., 5 requests, of the original, 500 requests. "
   ]
  },
  {
   "cell_type": "markdown",
   "id": "6e8d14db-b7d8-4015-94e4-76300046e3e3",
   "metadata": {},
   "source": [
    "PERFORMING BATCH API CALLS:"
   ]
  },
  {
   "cell_type": "code",
   "execution_count": 11,
   "id": "a51cec30-13a1-4130-83c9-62fcb2305469",
   "metadata": {},
   "outputs": [],
   "source": [
    "def chunks(lst, n):\n",
    "    \"\"\"Yield successive n-sized chunks from lst.\"\"\"\n",
    "    for i in range(0, len(lst), n):\n",
    "        yield lst[i:i + n]"
   ]
  },
  {
   "cell_type": "code",
   "execution_count": 12,
   "id": "d80005a5-3b66-4fb7-aa1d-79174a338bc4",
   "metadata": {},
   "outputs": [
    {
     "data": {
      "text/plain": [
       "[0         A\n",
       " 1       AAL\n",
       " 2       AAP\n",
       " 3      AAPL\n",
       " 4      ABBV\n",
       "       ...  \n",
       " 95     CINF\n",
       " 96       CL\n",
       " 97      CLX\n",
       " 98      CMA\n",
       " 99    CMCSA\n",
       " Name: Ticker, Length: 100, dtype: object,\n",
       " 100     CME\n",
       " 101     CMG\n",
       " 102     CMI\n",
       " 103     CMS\n",
       " 104     CNC\n",
       "        ... \n",
       " 196     FTV\n",
       " 197      GD\n",
       " 198      GE\n",
       " 199    GILD\n",
       " 200     GIS\n",
       " Name: Ticker, Length: 100, dtype: object,\n",
       " 201       GL\n",
       " 202      GLW\n",
       " 203       GM\n",
       " 204     GOOG\n",
       " 205    GOOGL\n",
       "        ...  \n",
       " 297      MAS\n",
       " 298      MCD\n",
       " 299     MCHP\n",
       " 300      MCK\n",
       " 301      MCO\n",
       " Name: Ticker, Length: 100, dtype: object,\n",
       " 302    MDLZ\n",
       " 303     MDT\n",
       " 304     MET\n",
       " 305     MGM\n",
       " 306     MHK\n",
       "        ... \n",
       " 397      RL\n",
       " 398     RMD\n",
       " 399     ROK\n",
       " 400     ROL\n",
       " 401     ROP\n",
       " Name: Ticker, Length: 100, dtype: object,\n",
       " 402    ROST\n",
       " 403     RSG\n",
       " 404     RTX\n",
       " 405    SBAC\n",
       " 406    SBUX\n",
       "        ... \n",
       " 499     XYL\n",
       " 500     YUM\n",
       " 501     ZBH\n",
       " 502    ZBRA\n",
       " 503    ZION\n",
       " Name: Ticker, Length: 100, dtype: object,\n",
       " 504    ZTS\n",
       " Name: Ticker, dtype: object]"
      ]
     },
     "execution_count": 12,
     "metadata": {},
     "output_type": "execute_result"
    }
   ],
   "source": [
    "symbol_groups = list(chunks(stocks['Ticker'], 100))\n",
    "symbol_groups\n",
    "#len(symbol_groups) #to find the length of this list"
   ]
  },
  {
   "cell_type": "markdown",
   "id": "3a82aff0-8765-4554-8d5c-1e37a667716b",
   "metadata": {},
   "source": [
    "Having successfully created a list of 5 lists, each with a 100 entries in them, and, a list of some extra entries in the data.\n",
    "Now we need to transfrom all of the stocks in that list into strings so that we can pass it server to make an HTTPS request.\n",
    "We do that by creating a new list that contains the list of all stocks in string seperated by a comma using the join function and then adding that group onto he new list we created."
   ]
  },
  {
   "cell_type": "code",
   "execution_count": 13,
   "id": "ee35344b-b8d5-4e59-9fa9-2e39a051f183",
   "metadata": {},
   "outputs": [
    {
     "name": "stdout",
     "output_type": "stream",
     "text": [
      "A,AAL,AAP,AAPL,ABBV,ABC,ABMD,ABT,ACN,ADBE,ADI,ADM,ADP,ADSK,AEE,AEP,AES,AFL,AIG,AIV,AIZ,AJG,AKAM,ALB,ALGN,ALK,ALL,ALLE,ALXN,AMAT,AMCR,AMD,AME,AMGN,AMP,AMT,AMZN,ANET,ANSS,ANTM,AON,AOS,APA,APD,APH,APTV,ARE,ATO,ATVI,AVB,AVGO,AVY,AWK,AXP,AZO,BA,BAC,BAX,BBY,BDX,BEN,BF.B,BIIB,BIO,BK,BKNG,BKR,BLK,BLL,BMY,BR,BRK.B,BSX,BWA,BXP,C,CAG,CAH,CARR,CAT,CB,CBOE,CBRE,CCI,CCL,CDNS,CDW,CE,CERN,CF,CFG,CHD,CHRW,CHTR,CI,CINF,CL,CLX,CMA,CMCSA\n",
      "CME,CMG,CMI,CMS,CNC,CNP,COF,COG,COO,COP,COST,COTY,CPB,CPRT,CRM,CSCO,CSX,CTAS,CTL,CTSH,CTVA,CTXS,CVS,CVX,CXO,D,DAL,DD,DE,DFS,DG,DGX,DHI,DHR,DIS,DISCK,DISH,DLR,DLTR,DOV,DOW,DPZ,DRE,DRI,DTE,DUK,DVA,DVN,DXC,DXCM,EA,EBAY,ECL,ED,EFX,EIX,EL,EMN,EMR,EOG,EQIX,EQR,ES,ESS,ETFC,ETN,ETR,EVRG,EW,EXC,EXPD,EXPE,EXR,F,FANG,FAST,FB,FBHS,FCX,FDX,FE,FFIV,FIS,FISV,FITB,FLIR,FLS,FLT,FMC,FOX,FOXA,FRC,FRT,FTI,FTNT,FTV,GD,GE,GILD,GIS\n",
      "GL,GLW,GM,GOOG,GOOGL,GPC,GPN,GPS,GRMN,GS,GWW,HAL,HAS,HBAN,HBI,HCA,HD,HES,HIG,HII,HLT,HOLX,HON,HPE,HPQ,HRB,HRL,HSIC,HST,HSY,HUM,HWM,IBM,ICE,IDXX,IEX,IFF,ILMN,INCY,INFO,INTC,INTU,IP,IPG,IPGP,IQV,IR,IRM,ISRG,IT,ITW,IVZ,J,JBHT,JCI,JKHY,JNJ,JNPR,JPM,K,KEY,KEYS,KHC,KIM,KLAC,KMB,KMI,KMX,KO,KR,KSS,KSU,L,LB,LDOS,LEG,LEN,LH,LHX,LIN,LKQ,LLY,LMT,LNC,LNT,LOW,LRCX,LUV,LVS,LW,LYB,LYV,MA,MAA,MAR,MAS,MCD,MCHP,MCK,MCO\n",
      "MDLZ,MDT,MET,MGM,MHK,MKC,MKTX,MLM,MMC,MMM,MNST,MO,MOS,MPC,MRK,MRO,MS,MSCI,MSFT,MSI,MTB,MTD,MU,MXIM,MYL,NBL,NCLH,NDAQ,NEE,NEM,NFLX,NI,NKE,NLOK,NLSN,NOC,NOV,NOW,NRG,NSC,NTAP,NTRS,NUE,NVDA,NVR,NWL,NWS,NWSA,O,ODFL,OKE,OMC,ORCL,ORLY,OTIS,OXY,PAYC,PAYX,PBCT,PCAR,PEAK,PEG,PEP,PFE,PFG,PG,PGR,PH,PHM,PKG,PKI,PLD,PM,PNC,PNR,PNW,PPG,PPL,PRGO,PRU,PSA,PSX,PVH,PWR,PXD,PYPL,QCOM,QRVO,RCL,RE,REG,REGN,RF,RHI,RJF,RL,RMD,ROK,ROL,ROP\n",
      "ROST,RSG,RTX,SBAC,SBUX,SCHW,SEE,SHW,SIVB,SJM,SLB,SLG,SNA,SNPS,SO,SPG,SPGI,SRE,STE,STT,STX,STZ,SWK,SWKS,SYF,SYK,SYY,T,TAP,TDG,TDY,TEL,TFC,TFX,TGT,TIF,TJX,TMO,TMUS,TPR,TROW,TRV,TSCO,TSN,TT,TTWO,TWTR,TXN,TXT,TYL,UA,UAA,UAL,UDR,UHS,ULTA,UNH,UNM,UNP,UPS,URI,USB,V,VAR,VFC,VLO,VMC,VNO,VRSK,VRSN,VRTX,VTR,VZ,WAB,WAT,WBA,WDC,WEC,WELL,WFC,WHR,WM,WMB,WMT,WRB,WRK,WST,WU,WY,WYNN,XEL,XLNX,XOM,XRAY,XRX,XYL,YUM,ZBH,ZBRA,ZION\n",
      "ZTS\n"
     ]
    }
   ],
   "source": [
    "symbol_strings = []\n",
    "for i in range(0, len(symbol_groups)): # loop runs for each chunk\n",
    "    symbol_strings.append(','.join(symbol_groups[i])) # join() joins all keys in the chunk and append() add each joined chunk\n",
    "    print(symbol_strings[i])"
   ]
  },
  {
   "cell_type": "markdown",
   "id": "a9b4f2a4-aa8c-44b0-9773-9acb124023bd",
   "metadata": {},
   "source": [
    "Next thing we do is to create a blank data frame where we will store all the data that we recieve after making the API call. We loop through each string in the symbol_strings list, which has exactly 6 lists. We pass those strings to make our Batch API call. We will syft through the IEX Cloud documentation page to find the base URL to make our batch API call."
   ]
  },
  {
   "cell_type": "markdown",
   "id": "4bf5f2cc-ceed-4070-8cce-386675227dfc",
   "metadata": {},
   "source": [
    "The base URL is:https://sandbox.iexapis.com/stable/. On the docs page we find a URL /stock/market/batch. We add that. https://sandbox.iexapis.com/stable/stock/market/batch. Now what do we want from it. We want the quote endpoint and that'll use the symbols we pass on to it. So we add ?types=quote&symbols={symbol_string}&token={API_TOKEN}. We have the required URL as https://sandbox.iexapis.com/stable/stock/market/batch?types=quote&symbols={symbol_string}&token={API_TOKEN}. The question mark represents what we want from the API call."
   ]
  },
  {
   "cell_type": "code",
   "execution_count": 14,
   "id": "e3b93a17-3108-4540-b893-c394dadae3cd",
   "metadata": {},
   "outputs": [
    {
     "data": {
      "text/html": [
       "<div>\n",
       "<style scoped>\n",
       "    .dataframe tbody tr th:only-of-type {\n",
       "        vertical-align: middle;\n",
       "    }\n",
       "\n",
       "    .dataframe tbody tr th {\n",
       "        vertical-align: top;\n",
       "    }\n",
       "\n",
       "    .dataframe thead th {\n",
       "        text-align: right;\n",
       "    }\n",
       "</style>\n",
       "<table border=\"1\" class=\"dataframe\">\n",
       "  <thead>\n",
       "    <tr style=\"text-align: right;\">\n",
       "      <th></th>\n",
       "      <th>Ticker</th>\n",
       "      <th>Price</th>\n",
       "      <th>Market Capitalization</th>\n",
       "      <th>Number Of Shares to Buy</th>\n",
       "    </tr>\n",
       "  </thead>\n",
       "  <tbody>\n",
       "    <tr>\n",
       "      <th>0</th>\n",
       "      <td>A</td>\n",
       "      <td>119.40</td>\n",
       "      <td>36091338554</td>\n",
       "      <td>N/A</td>\n",
       "    </tr>\n",
       "    <tr>\n",
       "      <th>1</th>\n",
       "      <td>AAL</td>\n",
       "      <td>14.77</td>\n",
       "      <td>9588750119</td>\n",
       "      <td>N/A</td>\n",
       "    </tr>\n",
       "    <tr>\n",
       "      <th>2</th>\n",
       "      <td>AAP</td>\n",
       "      <td>189.99</td>\n",
       "      <td>11521975709</td>\n",
       "      <td>N/A</td>\n",
       "    </tr>\n",
       "    <tr>\n",
       "      <th>3</th>\n",
       "      <td>AAPL</td>\n",
       "      <td>150.87</td>\n",
       "      <td>2541201722177</td>\n",
       "      <td>N/A</td>\n",
       "    </tr>\n",
       "    <tr>\n",
       "      <th>4</th>\n",
       "      <td>ABBV</td>\n",
       "      <td>156.75</td>\n",
       "      <td>282880622048</td>\n",
       "      <td>N/A</td>\n",
       "    </tr>\n",
       "    <tr>\n",
       "      <th>...</th>\n",
       "      <td>...</td>\n",
       "      <td>...</td>\n",
       "      <td>...</td>\n",
       "      <td>...</td>\n",
       "    </tr>\n",
       "    <tr>\n",
       "      <th>496</th>\n",
       "      <td>YUM</td>\n",
       "      <td>121.05</td>\n",
       "      <td>35246327087</td>\n",
       "      <td>N/A</td>\n",
       "    </tr>\n",
       "    <tr>\n",
       "      <th>497</th>\n",
       "      <td>ZBH</td>\n",
       "      <td>108.12</td>\n",
       "      <td>22364516108</td>\n",
       "      <td>N/A</td>\n",
       "    </tr>\n",
       "    <tr>\n",
       "      <th>498</th>\n",
       "      <td>ZBRA</td>\n",
       "      <td>310.09</td>\n",
       "      <td>15784718076</td>\n",
       "      <td>N/A</td>\n",
       "    </tr>\n",
       "    <tr>\n",
       "      <th>499</th>\n",
       "      <td>ZION</td>\n",
       "      <td>51.89</td>\n",
       "      <td>7727021820</td>\n",
       "      <td>N/A</td>\n",
       "    </tr>\n",
       "    <tr>\n",
       "      <th>500</th>\n",
       "      <td>ZTS</td>\n",
       "      <td>183.20</td>\n",
       "      <td>82890335340</td>\n",
       "      <td>N/A</td>\n",
       "    </tr>\n",
       "  </tbody>\n",
       "</table>\n",
       "<p>501 rows × 4 columns</p>\n",
       "</div>"
      ],
      "text/plain": [
       "    Ticker   Price Market Capitalization Number Of Shares to Buy\n",
       "0        A  119.40           36091338554                     N/A\n",
       "1      AAL   14.77            9588750119                     N/A\n",
       "2      AAP  189.99           11521975709                     N/A\n",
       "3     AAPL  150.87         2541201722177                     N/A\n",
       "4     ABBV  156.75          282880622048                     N/A\n",
       "..     ...     ...                   ...                     ...\n",
       "496    YUM  121.05           35246327087                     N/A\n",
       "497    ZBH  108.12           22364516108                     N/A\n",
       "498   ZBRA  310.09           15784718076                     N/A\n",
       "499   ZION   51.89            7727021820                     N/A\n",
       "500    ZTS  183.20           82890335340                     N/A\n",
       "\n",
       "[501 rows x 4 columns]"
      ]
     },
     "execution_count": 14,
     "metadata": {},
     "output_type": "execute_result"
    }
   ],
   "source": [
    "final_dataframe = pd.DataFrame(columns = my_columns)\n",
    "for symbol_string in symbol_strings: # loop runcs for each chunk\n",
    "    #print(symbol_string) #for testing the loop\n",
    "    batch_api_call_url = f'https://sandbox.iexapis.com/stable/stock/market/batch/?types=quote&symbols={symbol_string}&token={IEX_CLOUD_API_TOKEN}'\n",
    "    #print(batch_api_call_url) #for testing the URL\n",
    "    data = requests.get(batch_api_call_url).json()\n",
    "    #print(data.status_code) #to check if the data we receive is sound #remove .json() from above before running\n",
    "    for symbol in symbol_string.split(','): #because we need the metrics for each stock we'll split the data #loop runs for each symbol in given chunk\n",
    "        final_dataframe = final_dataframe.append(\n",
    "                                        pd.Series([symbol, \n",
    "                                                   data[symbol]['quote']['latestPrice'], #this is to parse the data for the metrics of the specific stock\n",
    "                                                   data[symbol]['quote']['marketCap'], #we add the symbol and the endpoint for the same\n",
    "                                                   'N/A'], \n",
    "                                                  index = my_columns), \n",
    "                                        ignore_index = True)\n",
    "final_dataframe\n",
    "    "
   ]
  },
  {
   "cell_type": "markdown",
   "id": "e436cfe9-c378-4a5b-ac76-166c85eb0432",
   "metadata": {},
   "source": [
    "That works well! We can see the substantial change in speed with the use of batch API calls."
   ]
  },
  {
   "cell_type": "markdown",
   "id": "ba8c1f0a-9c68-4f13-a875-ab303876600f",
   "metadata": {},
   "source": [
    "CALCULATING THE NUMBER OF SHARES TO BUY:"
   ]
  },
  {
   "cell_type": "markdown",
   "id": "18755f6f-74bf-4635-ae2a-d60386b937b8",
   "metadata": {},
   "source": [
    "Now to calculate the number of shares to buy. In order to write good code, one must write code that is reusable in various situations. So instead of creating a code for this specific case we will create one that asks you how big your portfolio is and works with that."
   ]
  },
  {
   "cell_type": "code",
   "execution_count": 35,
   "id": "4ee10b6e-934e-462a-9e73-a4eb6e0e15ff",
   "metadata": {},
   "outputs": [
    {
     "name": "stdin",
     "output_type": "stream",
     "text": [
      "Enter the value of your portfolio in USD: 1000000\n"
     ]
    }
   ],
   "source": [
    "currency = 'USD'\n",
    "portfolio_size = input(f'Enter the value of your portfolio in {currency}:') # to get the input from the user\n",
    "try:\n",
    "    val = float(portfolio_size) # forcing a string here will give a ValueError\n",
    "except ValueError: # except works no matter what the error is so we restrict it to ValueErrors only\n",
    "    print('Please only enter a number without the currency sign \\nPlease try again')\n",
    "    portfolio_size = input(f'Enter the value of your portfolio in {currency}:')\n",
    "    val = float(portfolio_size)"
   ]
  },
  {
   "cell_type": "markdown",
   "id": "cc1cdcb0-80cf-4508-947d-f6035aaa9c0c",
   "metadata": {},
   "source": [
    "Now since this takes a string value for portfolio size and a person may enter a word instead of a number which will brick the next code. So we will use a try except statement to deal with that."
   ]
  },
  {
   "cell_type": "markdown",
   "id": "b436078c-9bf2-4da8-893e-2ce66f7f5580",
   "metadata": {},
   "source": [
    "Since this is an equal weight fund, therefore,"
   ]
  },
  {
   "cell_type": "code",
   "execution_count": 39,
   "id": "e42051e3-5757-4f79-9fa3-03babd84c801",
   "metadata": {},
   "outputs": [
    {
     "data": {
      "text/html": [
       "<div>\n",
       "<style scoped>\n",
       "    .dataframe tbody tr th:only-of-type {\n",
       "        vertical-align: middle;\n",
       "    }\n",
       "\n",
       "    .dataframe tbody tr th {\n",
       "        vertical-align: top;\n",
       "    }\n",
       "\n",
       "    .dataframe thead th {\n",
       "        text-align: right;\n",
       "    }\n",
       "</style>\n",
       "<table border=\"1\" class=\"dataframe\">\n",
       "  <thead>\n",
       "    <tr style=\"text-align: right;\">\n",
       "      <th></th>\n",
       "      <th>Ticker</th>\n",
       "      <th>Price</th>\n",
       "      <th>Market Capitalization</th>\n",
       "      <th>Number Of Shares to Buy</th>\n",
       "    </tr>\n",
       "  </thead>\n",
       "  <tbody>\n",
       "    <tr>\n",
       "      <th>0</th>\n",
       "      <td>A</td>\n",
       "      <td>119.40</td>\n",
       "      <td>36091338554</td>\n",
       "      <td>16</td>\n",
       "    </tr>\n",
       "    <tr>\n",
       "      <th>1</th>\n",
       "      <td>AAL</td>\n",
       "      <td>14.77</td>\n",
       "      <td>9588750119</td>\n",
       "      <td>135</td>\n",
       "    </tr>\n",
       "    <tr>\n",
       "      <th>2</th>\n",
       "      <td>AAP</td>\n",
       "      <td>189.99</td>\n",
       "      <td>11521975709</td>\n",
       "      <td>10</td>\n",
       "    </tr>\n",
       "    <tr>\n",
       "      <th>3</th>\n",
       "      <td>AAPL</td>\n",
       "      <td>150.87</td>\n",
       "      <td>2541201722177</td>\n",
       "      <td>13</td>\n",
       "    </tr>\n",
       "    <tr>\n",
       "      <th>4</th>\n",
       "      <td>ABBV</td>\n",
       "      <td>156.75</td>\n",
       "      <td>282880622048</td>\n",
       "      <td>12</td>\n",
       "    </tr>\n",
       "    <tr>\n",
       "      <th>...</th>\n",
       "      <td>...</td>\n",
       "      <td>...</td>\n",
       "      <td>...</td>\n",
       "      <td>...</td>\n",
       "    </tr>\n",
       "    <tr>\n",
       "      <th>496</th>\n",
       "      <td>YUM</td>\n",
       "      <td>121.05</td>\n",
       "      <td>35246327087</td>\n",
       "      <td>16</td>\n",
       "    </tr>\n",
       "    <tr>\n",
       "      <th>497</th>\n",
       "      <td>ZBH</td>\n",
       "      <td>108.12</td>\n",
       "      <td>22364516108</td>\n",
       "      <td>18</td>\n",
       "    </tr>\n",
       "    <tr>\n",
       "      <th>498</th>\n",
       "      <td>ZBRA</td>\n",
       "      <td>310.09</td>\n",
       "      <td>15784718076</td>\n",
       "      <td>6</td>\n",
       "    </tr>\n",
       "    <tr>\n",
       "      <th>499</th>\n",
       "      <td>ZION</td>\n",
       "      <td>51.89</td>\n",
       "      <td>7727021820</td>\n",
       "      <td>38</td>\n",
       "    </tr>\n",
       "    <tr>\n",
       "      <th>500</th>\n",
       "      <td>ZTS</td>\n",
       "      <td>183.20</td>\n",
       "      <td>82890335340</td>\n",
       "      <td>10</td>\n",
       "    </tr>\n",
       "  </tbody>\n",
       "</table>\n",
       "<p>501 rows × 4 columns</p>\n",
       "</div>"
      ],
      "text/plain": [
       "    Ticker   Price Market Capitalization Number Of Shares to Buy\n",
       "0        A  119.40           36091338554                      16\n",
       "1      AAL   14.77            9588750119                     135\n",
       "2      AAP  189.99           11521975709                      10\n",
       "3     AAPL  150.87         2541201722177                      13\n",
       "4     ABBV  156.75          282880622048                      12\n",
       "..     ...     ...                   ...                     ...\n",
       "496    YUM  121.05           35246327087                      16\n",
       "497    ZBH  108.12           22364516108                      18\n",
       "498   ZBRA  310.09           15784718076                       6\n",
       "499   ZION   51.89            7727021820                      38\n",
       "500    ZTS  183.20           82890335340                      10\n",
       "\n",
       "[501 rows x 4 columns]"
      ]
     },
     "execution_count": 39,
     "metadata": {},
     "output_type": "execute_result"
    }
   ],
   "source": [
    "position_size = float(portfolio_size) / len(final_dataframe.index)\n",
    "for i in range(0, len(final_dataframe.index)):\n",
    "    final_dataframe.loc[i, 'Number Of Shares to Buy'] = math.floor(position_size / final_dataframe['Price'][i]) \n",
    "final_dataframe\n",
    "# floor function is used because a lot of places don't accept fractional shares. So to avoid misbalancing, by rounding to the\n",
    "# closest integer as the value of shares rounded up maybe more than those that were rounded down, we round down all of them."
   ]
  },
  {
   "cell_type": "markdown",
   "id": "7dba54be-59aa-47ce-88b3-280ec1cd430a",
   "metadata": {},
   "source": [
    "Voila!"
   ]
  },
  {
   "cell_type": "markdown",
   "id": "20961e6b-6525-46f0-b2a6-f8ef5b5d3bcd",
   "metadata": {},
   "source": [
    "We have created what we need."
   ]
  },
  {
   "cell_type": "markdown",
   "id": "a7fc3b7b-3efb-43a3-b7db-929b4c91a345",
   "metadata": {},
   "source": [
    "Formatting our output in Excel using xlsxwriter:"
   ]
  },
  {
   "cell_type": "markdown",
   "id": "1ca48523-de4f-4259-970f-29002690d8a2",
   "metadata": {},
   "source": [
    "Firstly we initialise our xlsxwriter object. After which we pass on our data frame to the writer."
   ]
  },
  {
   "cell_type": "code",
   "execution_count": 74,
   "id": "71a7d6ee-99f3-4eff-9f60-330fdae5fcfa",
   "metadata": {},
   "outputs": [],
   "source": [
    "writer = pd.ExcelWriter('recommended_trades.xlsx', engine='xlsxwriter')\n",
    "final_dataframe.to_excel(writer, sheet_name='Recommended Trades', index = False) # index = False is added because we don't want an index"
   ]
  },
  {
   "cell_type": "markdown",
   "id": "8b404b4d-f618-4f0b-8d0e-6f499dfc8946",
   "metadata": {},
   "source": [
    "Creating the Formats We'll Need For Our .xlsx File"
   ]
  },
  {
   "cell_type": "markdown",
   "id": "cc412d00-3930-4be9-9895-7c09c6233d69",
   "metadata": {},
   "source": [
    "Formats include colors, fonts, and also symbols like % and $. We'll need four main formats for our Excel document:\n",
    "\n",
    "1. String format for tickers\n",
    "2. $XX.XX format for stock prices\n",
    "3. $XX,XXX format for market capitalization\n",
    "4. Integer format for the number of shares to purchase"
   ]
  },
  {
   "cell_type": "markdown",
   "id": "b97bc199-8700-401e-84a0-e87b867c6ce6",
   "metadata": {},
   "source": [
    "We will use the book.add_format attribute to save the formats we want for each column."
   ]
  },
  {
   "cell_type": "code",
   "execution_count": 75,
   "id": "9f2252c8-c455-4511-9551-3c3d77d2e4ce",
   "metadata": {},
   "outputs": [],
   "source": [
    "background_color = '#ffffff'\n",
    "font_color = '#000000'\n",
    "# let's start with string format\n",
    "string_format = writer.book.add_format(\n",
    "        {\n",
    "            'font_color': font_color,\n",
    "            'bg_color': background_color,\n",
    "            'border': 1\n",
    "        }\n",
    "    )\n",
    "dollar_format = writer.book.add_format(\n",
    "        {\n",
    "            'num_format': '$0.00',\n",
    "            'font_color': font_color,\n",
    "            'bg_color': background_color,\n",
    "            'border': 1\n",
    "        }\n",
    "    )\n",
    "integer_format = writer.book.add_format(\n",
    "        {\n",
    "            'num_format': '0',\n",
    "            'font_color': font_color,\n",
    "            'bg_color': background_color,\n",
    "            'border': 1\n",
    "        }\n",
    "    )\n",
    "# this assigns formats to each of the variables"
   ]
  },
  {
   "cell_type": "markdown",
   "id": "a9341f70-5eb3-4c99-8206-c533c6861919",
   "metadata": {},
   "source": [
    "Let's start formatting each column of our .xlsx file."
   ]
  },
  {
   "cell_type": "code",
   "execution_count": 65,
   "id": "677fefb9-053b-49c4-9c82-51e6049a53a5",
   "metadata": {},
   "outputs": [],
   "source": [
    "# writer.sheets['Recommended Trades'].set_column('A:A', 18, string_format)\n",
    "# writer.sheets['Recommended Trades'].set_column('B:B', 18, dollar_format)\n",
    "# writer.sheets['Recommended Trades'].set_column('C:C', 18, dollar_format)\n",
    "# writer.sheets['Recommended Trades'].set_column('D:D', 18, integer_format)\n",
    "# let's take a peak at our file\n",
    "# writer.save()"
   ]
  },
  {
   "cell_type": "markdown",
   "id": "3eb2061d-2644-451a-8b4c-e15e0d14a80b",
   "metadata": {},
   "source": [
    "We see that the data has been formatted alright but the column names have not been so. We'll use the write function for that."
   ]
  },
  {
   "cell_type": "code",
   "execution_count": 66,
   "id": "01eaff38-aec4-4644-adc2-18e1d0ce95db",
   "metadata": {},
   "outputs": [],
   "source": [
    "# writer.sheets['Recommended Trades'].write('A1', 'Ticker', string_format)\n",
    "# writer.sheets['Recommended Trades'].write('B1', 'Price', string_format)\n",
    "# writer.sheets['Recommended Trades'].write('C1', 'Market Capitalization', string_format)\n",
    "# writer.sheets['Recommended Trades'].write('D1', 'Number Of Shares to Buy', string_format)\n",
    "# writer.save()"
   ]
  },
  {
   "cell_type": "markdown",
   "id": "75b26fb3-ccf5-4d1a-ba61-46fcac83362d",
   "metadata": {},
   "source": [
    "This code works, but it is too repitive. So we will simplify it by using two loops instead. \"Don't repeat yourself\" is an important rule of coding. The code must be simple but short."
   ]
  },
  {
   "cell_type": "markdown",
   "id": "c48cf078-d044-438d-97d1-1b5ec5624f50",
   "metadata": {},
   "source": [
    "We start by making a dictionary that contains the keys and the value for each column i.e., name and format."
   ]
  },
  {
   "cell_type": "code",
   "execution_count": 76,
   "id": "66562139-32d4-4d4b-8df1-1239fa6c7120",
   "metadata": {},
   "outputs": [],
   "source": [
    "column_formats = { \n",
    "                    'A': ['Ticker', string_format],\n",
    "                    'B': ['Price', dollar_format],\n",
    "                    'C': ['Market Capitalization', dollar_format],\n",
    "                    'D': ['Number of Shares to Buy', integer_format]\n",
    "                    }\n",
    "# we need a loop that loops through each key in the above dictionary\n",
    "for column in column_formats.keys(): # .keys() returns all the keys of a dictionary\n",
    "    writer.sheets['Recommended Trades'].set_column(f'{column}:{column}', 18, column_formats[column][1])\n",
    "    writer.sheets['Recommended Trades'].write(f'{column}1', column_formats[column][0], string_format)\n",
    "writer.save()"
   ]
  },
  {
   "cell_type": "markdown",
   "id": "92304b30-8399-4991-9ae4-253231257568",
   "metadata": {},
   "source": [
    "That completes it. I think this fulfils the goals of this project which were less about how to build an equal weight index fund, which is a relatively easy code. Rather, this was about how to use APIs and request data from APIs. It taught me how to clean and explore the data and also how to format the data into an Excel file that is more accessible to the public. Skills that are must have for an Quantitative analyst."
   ]
  }
 ],
 "metadata": {
  "kernelspec": {
   "display_name": "Python 3",
   "language": "python",
   "name": "python3"
  },
  "language_info": {
   "codemirror_mode": {
    "name": "ipython",
    "version": 3
   },
   "file_extension": ".py",
   "mimetype": "text/x-python",
   "name": "python",
   "nbconvert_exporter": "python",
   "pygments_lexer": "ipython3",
   "version": "3.6.5"
  },
  "toc-autonumbering": false
 },
 "nbformat": 4,
 "nbformat_minor": 5
}
